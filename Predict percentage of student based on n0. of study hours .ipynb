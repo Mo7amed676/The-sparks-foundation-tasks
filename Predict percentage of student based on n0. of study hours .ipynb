{
 "cells": [
  {
   "cell_type": "markdown",
   "id": "5cf72a2c",
   "metadata": {},
   "source": [
    "## Outlines\n",
    ">* Name: Mohamed Mahmoud Kamel\n",
    ">* track Data Science && business analytics\n",
    ">* task #1 prediction using supervised ML"
   ]
  },
  {
   "cell_type": "markdown",
   "id": "f598ed06",
   "metadata": {},
   "source": [
    "## Imports"
   ]
  },
  {
   "cell_type": "code",
   "execution_count": 56,
   "id": "e9a25890",
   "metadata": {},
   "outputs": [],
   "source": [
    "import pandas as pd\n",
    "import numpy as np  \n",
    "from sklearn.model_selection import train_test_split\n",
    "from sklearn.linear_model import LinearRegression"
   ]
  },
  {
   "cell_type": "markdown",
   "id": "bc966e10",
   "metadata": {},
   "source": [
    "### Show data"
   ]
  },
  {
   "cell_type": "code",
   "execution_count": 57,
   "id": "952969ff",
   "metadata": {},
   "outputs": [
    {
     "name": "stdout",
     "output_type": "stream",
     "text": [
      "Show data:\n",
      "id    Hours  Scores\n",
      "0    2.5      21\n",
      "1    5.1      47\n",
      "2    3.2      27\n",
      "3    8.5      75\n",
      "4    3.5      30\n"
     ]
    }
   ],
   "source": [
    "#read data\n",
    "data=pd.read_csv(\"students.csv\")\n",
    "print(\"Show data:\")\n",
    "print(\"id\",data.head())"
   ]
  },
  {
   "cell_type": "markdown",
   "id": "d8b08d1b",
   "metadata": {},
   "source": [
    "### Split data train and test"
   ]
  },
  {
   "cell_type": "code",
   "execution_count": 58,
   "id": "74ee4872",
   "metadata": {},
   "outputs": [
    {
     "name": "stdout",
     "output_type": "stream",
     "text": [
      "X_train: \n",
      "[3.8],[1.9],[7.8],[6.9],[1.1],[5.1],[7.7],[3.3],[8.3],[9.2],[6.1],[3.5],[2.7],[5.5],[2.7],[8.5],[2.5],[4.8],[8.9],[4.5],\n",
      "X_test: \n",
      "[1.5],[3.2],[7.4],[2.5],[5.9],\n"
     ]
    }
   ],
   "source": [
    "#split data input and output X,y\n",
    "X = data.iloc[:, :-1].values  ##( : )all rows ( :-1) from start to before last element\n",
    "y = data.iloc[:, 1].values\n",
    "#split data for train and test\n",
    "X_train, X_test, y_train, y_test = train_test_split(X, y,test_size=0.2, random_state=0) \n",
    "print(\"X_train: \")\n",
    "for x in X_train:\n",
    "    print(x,end=\",\")\n",
    "print(\"\\nX_test: \")\n",
    "for x in X_test:\n",
    "    print(x,end=\",\")\n",
    "print(end=\"\\n\")"
   ]
  },
  {
   "cell_type": "code",
   "execution_count": 59,
   "id": "4546595d",
   "metadata": {},
   "outputs": [
    {
     "name": "stdout",
     "output_type": "stream",
     "text": [
      "   Actual  Predicted\n",
      "0      20  16.884145\n",
      "1      27  33.732261\n",
      "2      69  75.357018\n",
      "3      30  26.794801\n",
      "4      62  60.491033\n"
     ]
    }
   ],
   "source": [
    "# # Model Training to fit with data\n",
    "model = LinearRegression()  \n",
    "model.fit(X_train, y_train) \n",
    "\n",
    "y_pred = model.predict(X_test) # Predicting the scores based on test data\n",
    "\n",
    "# Comparing Actual vs Predicted score\n",
    "df = pd.DataFrame({\n",
    "    'Actual': y_test,\n",
    "    'Predicted': y_pred\n",
    "    }\n",
    ")\n",
    "print(df)"
   ]
  },
  {
   "cell_type": "code",
   "execution_count": 60,
   "id": "4dd042ed",
   "metadata": {},
   "outputs": [
    {
     "name": "stdout",
     "output_type": "stream",
     "text": [
      "No. of Hours = [9.25]\n",
      "Predicted Score = 93.69173248737538\n"
     ]
    }
   ],
   "source": [
    "# predict with any score value \n",
    "hours = np.array([9.25]).reshape(1,1) ##matrix([9.25])\n",
    "prdctVlu = model.predict(hours)\n",
    "\n",
    "print(f\"No. of Hours = {hours[0]}\")\n",
    "print(f\"Predicted Score = {prdctVlu[0]}\")"
   ]
  },
  {
   "cell_type": "code",
   "execution_count": null,
   "id": "fdebfc5e",
   "metadata": {},
   "outputs": [],
   "source": []
  }
 ],
 "metadata": {
  "kernelspec": {
   "display_name": "Python 3 (ipykernel)",
   "language": "python",
   "name": "python3"
  },
  "language_info": {
   "codemirror_mode": {
    "name": "ipython",
    "version": 3
   },
   "file_extension": ".py",
   "mimetype": "text/x-python",
   "name": "python",
   "nbconvert_exporter": "python",
   "pygments_lexer": "ipython3",
   "version": "3.9.12"
  }
 },
 "nbformat": 4,
 "nbformat_minor": 5
}
